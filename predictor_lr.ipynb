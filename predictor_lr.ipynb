{
 "cells": [
  {
   "cell_type": "markdown",
   "id": "53c7b608",
   "metadata": {},
   "source": [
    "## House Price Prediction Using Linear Regression\n",
    "\n",
    "### Steve Matindi (Stevemats) - https://github.com/stevemats/House_Price_Prediction"
   ]
  },
  {
   "cell_type": "code",
   "execution_count": null,
   "id": "8519562e",
   "metadata": {},
   "outputs": [],
   "source": [
    "import numpy as np\n",
    "import pandas as pd\n",
    "from sklearn.model_selection import train_test_split\n",
    "from sklearn.linear_model import LinearRegression\n",
    "from sklearn.metrics import mean_squared_error\n",
    "import matplotlib.pyplot as plt\n",
    "import seaborn as sns"
   ]
  },
  {
   "cell_type": "code",
   "execution_count": null,
   "id": "83b2c9d1",
   "metadata": {},
   "outputs": [],
   "source": [
    "def load_dataset(file_path):\n",
    "    \"\"\"Load the dataset from a CSV file\"\"\"\n",
    "    return pd.read_csv(file_path)"
   ]
  },
  {
   "cell_type": "code",
   "execution_count": null,
   "id": "db5b78f4",
   "metadata": {},
   "outputs": [],
   "source": [
    "def preprocess_data(data):\n",
    "    \"\"\"Preprocess the dataset by handling missing values\"\"\"\n",
    "    # Fill missing values with the mean of the respective column\n",
    "    data = data.fillna(data.mean())\n",
    "    return data"
   ]
  },
  {
   "cell_type": "code",
   "execution_count": null,
   "id": "22f8630c",
   "metadata": {},
   "outputs": [],
   "source": [
    "def explore_dataset(data):\n",
    "    \"\"\"Display the first few rows and information of the dataset\"\"\"\n",
    "    print(\"First few rows of the dataset:\")\n",
    "    print(data.head())\n",
    "    print(\"\\nDataset information:\")\n",
    "    print(data.info())"
   ]
  },
  {
   "cell_type": "code",
   "execution_count": null,
   "id": "a02a795d",
   "metadata": {},
   "outputs": [],
   "source": [
    "def visualize_data(data):\n",
    "    \"\"\"Visualize the data\"\"\"\n",
    "    # Pairplot to visualize relationships between features\n",
    "    sns.pairplot(data, x_vars=data.columns[:-1], y_vars=['medv'], kind='scatter')\n",
    "    plt.title(\"Pairplot of Features vs. Target\")\n",
    "    plt.show()\n",
    "\n",
    "    # Heatmap to visualize correlations between features\n",
    "    plt.figure(figsize=(12, 8))\n",
    "    sns.heatmap(data.corr(), annot=True, cmap='coolwarm', linewidths=0.5)\n",
    "    plt.title(\"Correlation Heatmap\")\n",
    "    plt.show()"
   ]
  },
  {
   "cell_type": "code",
   "execution_count": null,
   "id": "0217b966",
   "metadata": {},
   "outputs": [],
   "source": [
    "def split_data(data):\n",
    "    \"\"\"Split the dataset into features (X) and target (y)\"\"\"\n",
    "    X = data.drop('medv', axis=1)\n",
    "    y = data['medv']\n",
    "    return X, y"
   ]
  },
  {
   "cell_type": "code",
   "execution_count": null,
   "id": "8b823dd9",
   "metadata": {},
   "outputs": [],
   "source": [
    "def train_model(X_train, y_train):\n",
    "    \"\"\"Train a linear regression model\"\"\"\n",
    "    model = LinearRegression()\n",
    "    model.fit(X_train, y_train)\n",
    "    return model"
   ]
  },
  {
   "cell_type": "code",
   "execution_count": null,
   "id": "66f5697f",
   "metadata": {},
   "outputs": [],
   "source": [
    "def evaluate_model(model, X_test, y_test):\n",
    "    \"\"\"Evaluate the trained model\"\"\"\n",
    "    y_pred = model.predict(X_test)\n",
    "    mse = mean_squared_error(y_test, y_pred)\n",
    "    print(\"Mean Squared Error:\", mse)"
   ]
  },
  {
   "cell_type": "code",
   "execution_count": null,
   "id": "91bedf5d",
   "metadata": {},
   "outputs": [],
   "source": [
    "def visualize_predictions(y_test, y_pred):\n",
    "    \"\"\"Visualize the actual vs. predicted prices\"\"\"\n",
    "    plt.figure(figsize=(10, 6))\n",
    "    plt.scatter(y_test, y_pred, color='blue')\n",
    "    plt.plot([y_test.min(), y_test.max()], [y_test.min(), y_test.max()], linestyle='--', color='red')\n",
    "    plt.xlabel(\"Actual Price\")\n",
    "    plt.ylabel(\"Predicted Price\")\n",
    "    plt.title(\"Actual vs. Predicted Prices\")\n",
    "    plt.show()"
   ]
  },
  {
   "cell_type": "code",
   "execution_count": null,
   "id": "78d8d6b7",
   "metadata": {},
   "outputs": [],
   "source": [
    "def predict_new_house_price(model, new_house_features):\n",
    "    \"\"\"Predict the price of a new house\"\"\"\n",
    "    predicted_price = model.predict(new_house_features)\n",
    "    formatted_price = \"${:,.2f}\".format(predicted_price[0])\n",
    "    print(\"Predicted Price of the House:\", formatted_price)"
   ]
  },
  {
   "cell_type": "code",
   "execution_count": null,
   "id": "c7f6f94a",
   "metadata": {},
   "outputs": [],
   "source": [
    "def main():\n",
    "    # Load the dataset\n",
    "    file_path = 'dataset/BostonHousing.csv'\n",
    "    boston = load_dataset(file_path)\n",
    "\n",
    "    # Preprocess the dataset\n",
    "    boston = preprocess_data(boston)\n",
    "\n",
    "    # Explore the dataset\n",
    "    explore_dataset(boston)\n",
    "    visualize_data(boston)\n",
    "\n",
    "    # Split the data into training and testing sets\n",
    "    X, y = split_data(boston)\n",
    "    X_train, X_test, y_train, y_test = train_test_split(X, y, test_size=0.2, random_state=42)\n",
    "\n",
    "    # Train the linear regression model\n",
    "    model = train_model(X_train, y_train)\n",
    "\n",
    "    # Evaluate the model\n",
    "    evaluate_model(model, X_test, y_test)\n",
    "\n",
    "    # Make predictions\n",
    "    y_pred = model.predict(X_test)\n",
    "    visualize_predictions(y_test, y_pred)\n",
    "\n",
    "    # Predict the price of a new house\n",
    "    new_house_features = np.array([[0.00632, 18, 2.31, 0, 0.538, 6.575, 65.2, 4.09, 1, 296, 15.3, 396.9, 4.98]])\n",
    "    predict_new_house_price(model, new_house_features)"
   ]
  },
  {
   "cell_type": "code",
   "execution_count": null,
   "id": "ddd3aba6",
   "metadata": {
    "scrolled": true
   },
   "outputs": [],
   "source": [
    "if __name__ == \"__main__\":\n",
    "    # Hide warning concerning feature names\n",
    "    import warnings\n",
    "    warnings.filterwarnings(\"ignore\", message=\"X does not have valid feature names, but LinearRegression was fitted with feature names\")\n",
    "    \n",
    "    main()"
   ]
  },
  {
   "cell_type": "code",
   "execution_count": null,
   "id": "60e4f89d",
   "metadata": {},
   "outputs": [],
   "source": []
  }
 ],
 "metadata": {
  "kernelspec": {
   "display_name": "Python 3",
   "language": "python",
   "name": "python3"
  },
  "language_info": {
   "codemirror_mode": {
    "name": "ipython",
    "version": 3
   },
   "file_extension": ".py",
   "mimetype": "text/x-python",
   "name": "python",
   "nbconvert_exporter": "python",
   "pygments_lexer": "ipython3",
   "version": "3.8.8"
  }
 },
 "nbformat": 4,
 "nbformat_minor": 5
}
